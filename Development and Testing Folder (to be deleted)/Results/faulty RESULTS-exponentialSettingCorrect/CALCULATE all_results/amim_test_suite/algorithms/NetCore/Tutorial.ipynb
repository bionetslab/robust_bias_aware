{
 "cells": [
  {
   "cell_type": "markdown",
   "metadata": {},
   "source": [
    "# How to use NetCore"
   ]
  },
  {
   "cell_type": "code",
   "execution_count": 1,
   "metadata": {},
   "outputs": [],
   "source": [
    "import sys\n",
    "sys.path.append(\"netcore/\")\n",
    "import netcore\n",
    "import pandas as pd"
   ]
  },
  {
   "cell_type": "markdown",
   "metadata": {},
   "source": [
    "## Input"
   ]
  },
  {
   "cell_type": "markdown",
   "metadata": {},
   "source": [
    "NetCore requires as input two main components: a PPI network and a weight scheme for the nodes in the network. In addition, the user can provide a list of seed nodes which can be used for generating binary weights, or for the module identification step.\n",
    "\n",
    "Here we will provide a short description of the format of the input files:"
   ]
  },
  {
   "cell_type": "markdown",
   "metadata": {},
   "source": [
    "### PPI Network"
   ]
  },
  {
   "cell_type": "markdown",
   "metadata": {},
   "source": [
    "The PPI network should be provided in a form of edge list, a file with two columns, where each row represents an interaction.\n",
    "\n",
    "The PPI must be fully connected in order to apply NetCore. If that is not the case, then NetCore will extract the largest component from the network and use only the nodes and the edges in this component. The same procedure is applied when generating network permutations."
   ]
  },
  {
   "cell_type": "code",
   "execution_count": 2,
   "metadata": {},
   "outputs": [
    {
     "data": {
      "text/html": [
       "<div>\n",
       "<style scoped>\n",
       "    .dataframe tbody tr th:only-of-type {\n",
       "        vertical-align: middle;\n",
       "    }\n",
       "\n",
       "    .dataframe tbody tr th {\n",
       "        vertical-align: top;\n",
       "    }\n",
       "\n",
       "    .dataframe thead th {\n",
       "        text-align: right;\n",
       "    }\n",
       "</style>\n",
       "<table border=\"1\" class=\"dataframe\">\n",
       "  <thead>\n",
       "    <tr style=\"text-align: right;\">\n",
       "      <th></th>\n",
       "      <th>0</th>\n",
       "      <th>1</th>\n",
       "    </tr>\n",
       "  </thead>\n",
       "  <tbody>\n",
       "    <tr>\n",
       "      <th>0</th>\n",
       "      <td>STIM1</td>\n",
       "      <td>TRPC1</td>\n",
       "    </tr>\n",
       "    <tr>\n",
       "      <th>1</th>\n",
       "      <td>KCNJ11</td>\n",
       "      <td>ABCC9</td>\n",
       "    </tr>\n",
       "    <tr>\n",
       "      <th>2</th>\n",
       "      <td>HADHA</td>\n",
       "      <td>HADHB</td>\n",
       "    </tr>\n",
       "    <tr>\n",
       "      <th>3</th>\n",
       "      <td>GTF2E1</td>\n",
       "      <td>GTF2E2</td>\n",
       "    </tr>\n",
       "    <tr>\n",
       "      <th>4</th>\n",
       "      <td>GTF2A1</td>\n",
       "      <td>GTF2A2</td>\n",
       "    </tr>\n",
       "  </tbody>\n",
       "</table>\n",
       "</div>"
      ],
      "text/plain": [
       "        0       1\n",
       "0   STIM1   TRPC1\n",
       "1  KCNJ11   ABCC9\n",
       "2   HADHA   HADHB\n",
       "3  GTF2E1  GTF2E2\n",
       "4  GTF2A1  GTF2A2"
      ]
     },
     "execution_count": 2,
     "metadata": {},
     "output_type": "execute_result"
    }
   ],
   "source": [
    "# open edge list file file\n",
    "edge_list_file = \"data/CPDB_high_confidence.txt\"\n",
    "edge_list = pd.read_csv(edge_list_file,header=None,sep=\"\\t\")\n",
    "edge_list.head()"
   ]
  },
  {
   "cell_type": "markdown",
   "metadata": {},
   "source": [
    "#### Network permutations"
   ]
  },
  {
   "cell_type": "markdown",
   "metadata": {},
   "source": [
    "NetCore applies a permutation test in the module identification step. Therefore, the files of the permutated networks are also required as input. The user can provide his own permutation files, or generate them using the ```permutations_test.py``` script."
   ]
  },
  {
   "cell_type": "code",
   "execution_count": 3,
   "metadata": {},
   "outputs": [],
   "source": [
    "from permutations_test import make_network_permutations"
   ]
  },
  {
   "cell_type": "markdown",
   "metadata": {},
   "source": [
    "**Run-time memory warning:** Executing the next funtion will be executed assuming it can use 64 cores (or more). If you're running this on a computer with less cores, make sure to first change the ```num_cores``` argument accordingly. Running time for 1 permutation (with swap_factor=100) is just under 45 minutes (with one core). Therefore, it is recommented to use multiple cores and generate at least 100 permutations. This can be done once only and later be repeatedly used.\n",
    "\n",
    "To generate permutations in a parallel fashion, the user can change the ```num_cores``` argument in the function to be larger than ```1``` and then multiple processes will be generated (as many as the number of given cores).\n",
    "\n",
    "Use ```num_perm``` to change the number of permutations that are created.\n",
    "\n",
    "Use ```swap_factor``` to change the number attmeps for edge swaps, wich is given by: number_of_edges X swap_factor. (For more details, please see [the documentaion page of the Networkx package](https://networkx.github.io/documentation/stable/reference/algorithms/generated/networkx.algorithms.swap.connected_double_edge_swap.html).\n",
    "\n",
    "The permutations files will be saved in a new sub-directory of the given output path, and will be named as the given network name with a suffix of *edge_permutations*. So in the follwoing example the sub-directory will be named *CPDB_high_confidence_edge_permutations*."
   ]
  },
  {
   "cell_type": "code",
   "execution_count": 4,
   "metadata": {},
   "outputs": [
    {
     "name": "stdout",
     "output_type": "stream",
     "text": [
      "Getting network\n",
      "Network without edge weights\n",
      "121 nodes were removed from the network since they are not connected to the biggest component\n",
      "Making Edge permutations (in parallel)\n",
      "Running permutation 0\n",
      "Running permutation 1\n",
      "Running permutation 2\n",
      "Running permutation 3\n",
      "Running permutation 4\n",
      "Running permutation 5\n",
      "Running permutation 6\n",
      "Running permutation 7\n",
      "Running permutation 8\n",
      "Running permutation 9\n",
      "Running permutation 10\n",
      "Running permutation 11\n",
      "Running permutation 12\n",
      "Running permutation 13\n",
      "Running permutation 14\n",
      "Running permutation 15\n",
      "Running permutation 16\n",
      "Running permutation 17\n",
      "Running permutation 18\n",
      "Running permutation 19\n",
      "Running permutation 20\n",
      "Running permutation 21\n",
      "Running permutation 22\n",
      "Running permutation 23\n",
      "Running permutation 24\n",
      "Running permutation 25\n",
      "Running permutation 26\n",
      "Running permutation 27\n",
      "Running permutation 28\n",
      "Running permutation 29\n",
      "Running permutation 30\n",
      "Running permutation 31\n",
      "Running permutation 32\n",
      "Running permutation 33\n",
      "Running permutation 34\n",
      "Running permutation 35\n",
      "Running permutation 36\n",
      "Running permutation 37\n",
      "Running permutation 38\n",
      "Running permutation 39\n",
      "Running permutation 40\n",
      "Running permutation 41\n",
      "Running permutation 42\n",
      "Running permutation 43\n",
      "Running permutation 44\n",
      "Running permutation 45\n",
      "Running permutation 46\n",
      "Running permutation 47\n",
      "Running permutation 48\n",
      "Running permutation 49\n",
      "Running permutation 50\n",
      "Running permutation 51\n",
      "Running permutation 52\n",
      "Running permutation 53\n",
      "Running permutation 54\n",
      "Running permutation 55\n",
      "Running permutation 56\n",
      "Running permutation 57\n",
      "Running permutation 58\n",
      "Running permutation 59\n",
      "Running permutation 60\n",
      "Running permutation 61\n",
      "Running permutation 62\n",
      "Running permutation 63\n",
      "Running permutation 64\n",
      "Running permutation 65\n",
      "Running permutation 66\n",
      "Running permutation 67\n",
      "Running permutation 68\n",
      "Running permutation 69\n",
      "Running permutation 70\n",
      "Running permutation 71\n",
      "Running permutation 72\n",
      "Running permutation 73\n",
      "Running permutation 74\n",
      "Running permutation 75\n",
      "Running permutation 76\n",
      "Running permutation 77\n",
      "Running permutation 78\n",
      "Running permutation 79\n",
      "Running permutation 81\n",
      "Running permutation 80\n",
      "Running permutation 82\n",
      "Running permutation 83\n",
      "Running permutation 84\n",
      "Running permutation 85\n",
      "Running permutation 86\n",
      "Running permutation 87\n",
      "Running permutation 88\n",
      "Running permutation 89\n",
      "Running permutation 90\n",
      "Running permutation 91\n",
      "Running permutation 92\n",
      "Running permutation 93\n",
      "Running permutation 94\n",
      "Running permutation 95\n",
      "Running permutation 96\n",
      "Running permutation 97\n",
      "Running permutation 98\n",
      "Running permutation 99\n"
     ]
    }
   ],
   "source": [
    "make_network_permutations(net_file=edge_list_file,\n",
    "                          net_name=\"CPDB_high_confidence\",\n",
    "                          output_path=\"data/\",\n",
    "                          num_perm=100,\n",
    "                          swap_factor=100,\n",
    "                          num_cores=64)"
   ]
  },
  {
   "cell_type": "markdown",
   "metadata": {},
   "source": [
    "### Node Weights"
   ]
  },
  {
   "cell_type": "markdown",
   "metadata": {},
   "source": [
    "Weights for the nodes in the network should be provided in a tab-delimited file where for each node a numeric value is given. The names of the nodes should match their names in the edge list file. Not all the nodes in the network must be in the file. The ones that are missing will automatically recieve a weight of ```0```. Nodes that are given a weight but are not included in the edge list file will be ignored."
   ]
  },
  {
   "cell_type": "code",
   "execution_count": 3,
   "metadata": {},
   "outputs": [
    {
     "data": {
      "text/html": [
       "<div>\n",
       "<style scoped>\n",
       "    .dataframe tbody tr th:only-of-type {\n",
       "        vertical-align: middle;\n",
       "    }\n",
       "\n",
       "    .dataframe tbody tr th {\n",
       "        vertical-align: top;\n",
       "    }\n",
       "\n",
       "    .dataframe thead th {\n",
       "        text-align: right;\n",
       "    }\n",
       "</style>\n",
       "<table border=\"1\" class=\"dataframe\">\n",
       "  <thead>\n",
       "    <tr style=\"text-align: right;\">\n",
       "      <th></th>\n",
       "      <th>0</th>\n",
       "      <th>1</th>\n",
       "    </tr>\n",
       "  </thead>\n",
       "  <tbody>\n",
       "    <tr>\n",
       "      <th>0</th>\n",
       "      <td>MARCH1</td>\n",
       "      <td>5.045757</td>\n",
       "    </tr>\n",
       "    <tr>\n",
       "      <th>1</th>\n",
       "      <td>PCNX2</td>\n",
       "      <td>6.397940</td>\n",
       "    </tr>\n",
       "    <tr>\n",
       "      <th>2</th>\n",
       "      <td>LPIN2</td>\n",
       "      <td>5.045757</td>\n",
       "    </tr>\n",
       "    <tr>\n",
       "      <th>3</th>\n",
       "      <td>DCDC2C</td>\n",
       "      <td>5.522879</td>\n",
       "    </tr>\n",
       "    <tr>\n",
       "      <th>4</th>\n",
       "      <td>HUNK</td>\n",
       "      <td>5.397940</td>\n",
       "    </tr>\n",
       "  </tbody>\n",
       "</table>\n",
       "</div>"
      ],
      "text/plain": [
       "        0         1\n",
       "0  MARCH1  5.045757\n",
       "1   PCNX2  6.397940\n",
       "2   LPIN2  5.045757\n",
       "3  DCDC2C  5.522879\n",
       "4    HUNK  5.397940"
      ]
     },
     "execution_count": 3,
     "metadata": {},
     "output_type": "execute_result"
    }
   ],
   "source": [
    "weights_file = \"data/Type_2_diabetes_score.txt\"\n",
    "weights = pd.read_csv(weights_file,header=None,sep='\\t')\n",
    "weights.head()"
   ]
  },
  {
   "cell_type": "markdown",
   "metadata": {},
   "source": [
    "### Seed Nodes"
   ]
  },
  {
   "cell_type": "markdown",
   "metadata": {},
   "source": [
    "A file with seed nodes, which is optional to provide, can be used in the following ways:\n",
    "\n",
    "1. For the module identification step - the seed nodes will be used to generate the initial modules.\n",
    "2. For binary weights - in case a weights file is not provided, binay weights will be generated such that the seed nodes will have a weight of ```1```."
   ]
  },
  {
   "cell_type": "code",
   "execution_count": 4,
   "metadata": {},
   "outputs": [
    {
     "data": {
      "text/html": [
       "<div>\n",
       "<style scoped>\n",
       "    .dataframe tbody tr th:only-of-type {\n",
       "        vertical-align: middle;\n",
       "    }\n",
       "\n",
       "    .dataframe tbody tr th {\n",
       "        vertical-align: top;\n",
       "    }\n",
       "\n",
       "    .dataframe thead th {\n",
       "        text-align: right;\n",
       "    }\n",
       "</style>\n",
       "<table border=\"1\" class=\"dataframe\">\n",
       "  <thead>\n",
       "    <tr style=\"text-align: right;\">\n",
       "      <th></th>\n",
       "      <th>0</th>\n",
       "    </tr>\n",
       "  </thead>\n",
       "  <tbody>\n",
       "    <tr>\n",
       "      <th>0</th>\n",
       "      <td>ABO</td>\n",
       "    </tr>\n",
       "    <tr>\n",
       "      <th>1</th>\n",
       "      <td>ACSL1</td>\n",
       "    </tr>\n",
       "    <tr>\n",
       "      <th>2</th>\n",
       "      <td>ADAM30</td>\n",
       "    </tr>\n",
       "    <tr>\n",
       "      <th>3</th>\n",
       "      <td>ADAMTS9</td>\n",
       "    </tr>\n",
       "    <tr>\n",
       "      <th>4</th>\n",
       "      <td>ADCY5</td>\n",
       "    </tr>\n",
       "  </tbody>\n",
       "</table>\n",
       "</div>"
      ],
      "text/plain": [
       "         0\n",
       "0      ABO\n",
       "1    ACSL1\n",
       "2   ADAM30\n",
       "3  ADAMTS9\n",
       "4    ADCY5"
      ]
     },
     "execution_count": 4,
     "metadata": {},
     "output_type": "execute_result"
    }
   ],
   "source": [
    "seed_file=\"data/Type_2_diabetes.txt\"\n",
    "seed = pd.read_csv(seed_file,header=None)\n",
    "seed.head()"
   ]
  },
  {
   "cell_type": "markdown",
   "metadata": {},
   "source": [
    "## Running NetCore"
   ]
  },
  {
   "cell_type": "markdown",
   "metadata": {},
   "source": [
    "NetCore requiers at least 3 inputs:\n",
    "\n",
    "* An edge list file for the network\n",
    "* A weights file for some or all the nodes in the network. In case such file is not avilable than a seed file can be used\n",
    "* A path for the directory containing all of the permutaions of the network\n",
    "\n",
    "Running NetCore with the input files will generate two outputs:\n",
    "\n",
    "* ```random_walk_weights.txt``` - a propagation weights file with re-ranking of the nodes in the network according to their weights after the propagation\n",
    "* ```subnetworks.txt``` - a list of the modules found\n",
    "* ```extended_seed_subnet``` - a .txt file with the edge list of the seed induced sub-network that was extended to include more nodes based on the propagation results, along with a pdf file that contains the figure of the sub-network\n",
    "* ```modules``` - a sub-directory with figures of the modules found"
   ]
  },
  {
   "cell_type": "markdown",
   "metadata": {},
   "source": [
    "### Running via the command line"
   ]
  },
  {
   "cell_type": "markdown",
   "metadata": {},
   "source": [
    "**Run-time memory warning:** NetCore is computes the fractional power of a matrix using [scipy](http://lagrange.univ-lyon1.fr/docs/scipy/0.17.1/generated/scipy.linalg.fractional_matrix_power.html) which might take long and be intesive to process. It is recommened to use a machine with at least 64 cores. \n",
    "\n",
    "On a computer with 64 cores, with 100 permutations, the total running time of NetCore is just under 60 min. Using more permutations will increase the running time in ~30 seconds for each permutation.\n",
    "\n",
    "To run NetCore the ```netcore.py``` script must be executed using ```python3``` with at least 4 arguments. The user can chose to input either a weights file or a seed file (or both), but at least one must be provided. "
   ]
  },
  {
   "cell_type": "markdown",
   "metadata": {},
   "source": [
    "#### Requiered arguments"
   ]
  },
  {
   "cell_type": "markdown",
   "metadata": {},
   "source": [
    "``` -pd``` : The path to the directory where the permutation files of the network are stored\n",
    "\n",
    "``` -e``` : Network file in an edge list format\n",
    "\n",
    "``` -w``` : Weights file for some or all nodes in the network\n",
    "\n",
    "*and/or*\n",
    "\n",
    "``` -s``` : Seed file with seed nodes for binary propagation and/or module identification\n"
   ]
  },
  {
   "cell_type": "code",
   "execution_count": 5,
   "metadata": {},
   "outputs": [
    {
     "name": "stdout",
     "output_type": "stream",
     "text": [
      "Processing input...\n",
      "Getting network information...\n",
      "Network without edge weights\n",
      "121 nodes were removed from the network since they are not connected to the biggest component\n",
      "Processing weights...\n",
      "985 nodes with an input weight are not in the network -> They will be removed from further analysis!\n",
      "10121 nodes in the network don't have an input weight -> They will be assigned a weight of 0!\n",
      "46 seed nodes are not the network -> They will not be included in the final modules!\n",
      "Creating random walk matrix...\n",
      "Running permutations test...\n",
      "Permutation 0\n",
      "Network without edge weights\n",
      "Creating random walk matrix...\n",
      "Permutation 1\n",
      "Network without edge weights\n",
      "Creating random walk matrix...\n",
      "Permutation 2\n",
      "Network without edge weights\n",
      "Creating random walk matrix...\n",
      "Permutation 3\n",
      "Network without edge weights\n",
      "Creating random walk matrix...\n",
      "Permutation 4\n",
      "Network without edge weights\n",
      "Creating random walk matrix...\n",
      "Permutation 5\n",
      "Network without edge weights\n",
      "Creating random walk matrix...\n",
      "Permutation 6\n",
      "Network without edge weights\n",
      "Creating random walk matrix...\n",
      "Permutation 7\n",
      "Network without edge weights\n",
      "Creating random walk matrix...\n",
      "Permutation 8\n",
      "Network without edge weights\n",
      "Creating random walk matrix...\n",
      "Permutation 9\n",
      "Network without edge weights\n",
      "Creating random walk matrix...\n",
      "Permutation 10\n",
      "Network without edge weights\n",
      "Creating random walk matrix...\n",
      "Permutation 11\n",
      "Network without edge weights\n",
      "Creating random walk matrix...\n",
      "Permutation 12\n",
      "Network without edge weights\n",
      "Creating random walk matrix...\n",
      "Permutation 13\n",
      "Network without edge weights\n",
      "Creating random walk matrix...\n",
      "Permutation 14\n",
      "Network without edge weights\n",
      "Creating random walk matrix...\n",
      "Permutation 15\n",
      "Network without edge weights\n",
      "Creating random walk matrix...\n",
      "Permutation 16\n",
      "Network without edge weights\n",
      "Creating random walk matrix...\n",
      "Permutation 17\n",
      "Network without edge weights\n",
      "Creating random walk matrix...\n",
      "Permutation 18\n",
      "Network without edge weights\n",
      "Creating random walk matrix...\n",
      "Permutation 19\n",
      "Network without edge weights\n",
      "Creating random walk matrix...\n",
      "Permutation 20\n",
      "Network without edge weights\n",
      "Creating random walk matrix...\n",
      "Permutation 21\n",
      "Network without edge weights\n",
      "Creating random walk matrix...\n",
      "Permutation 22\n",
      "Network without edge weights\n",
      "Creating random walk matrix...\n",
      "Permutation 23\n",
      "Network without edge weights\n",
      "Creating random walk matrix...\n",
      "Permutation 24\n",
      "Network without edge weights\n",
      "Creating random walk matrix...\n",
      "Permutation 25\n",
      "Network without edge weights\n",
      "Creating random walk matrix...\n",
      "Permutation 26\n",
      "Network without edge weights\n",
      "Creating random walk matrix...\n",
      "Permutation 27\n",
      "Network without edge weights\n",
      "Creating random walk matrix...\n",
      "Permutation 28\n",
      "Network without edge weights\n",
      "Creating random walk matrix...\n",
      "Permutation 29\n",
      "Network without edge weights\n",
      "Creating random walk matrix...\n",
      "Permutation 30\n",
      "Network without edge weights\n",
      "Creating random walk matrix...\n",
      "Permutation 31\n",
      "Network without edge weights\n",
      "Creating random walk matrix...\n",
      "Permutation 32\n",
      "Network without edge weights\n",
      "Creating random walk matrix...\n",
      "Permutation 33\n",
      "Network without edge weights\n",
      "Creating random walk matrix...\n",
      "Permutation 34\n",
      "Network without edge weights\n",
      "Creating random walk matrix...\n",
      "Permutation 35\n",
      "Network without edge weights\n",
      "Creating random walk matrix...\n",
      "Permutation 36\n",
      "Network without edge weights\n",
      "Creating random walk matrix...\n",
      "Permutation 37\n",
      "Network without edge weights\n",
      "Creating random walk matrix...\n",
      "Permutation 38\n",
      "Network without edge weights\n",
      "Creating random walk matrix...\n",
      "Permutation 39\n",
      "Network without edge weights\n",
      "Creating random walk matrix...\n",
      "Permutation 40\n",
      "Network without edge weights\n",
      "Creating random walk matrix...\n",
      "Permutation 41\n",
      "Network without edge weights\n",
      "Creating random walk matrix...\n",
      "Permutation 42\n",
      "Network without edge weights\n",
      "Creating random walk matrix...\n",
      "Permutation 43\n",
      "Network without edge weights\n",
      "Creating random walk matrix...\n",
      "Permutation 44\n",
      "Network without edge weights\n",
      "Creating random walk matrix...\n",
      "Permutation 45\n",
      "Network without edge weights\n",
      "Creating random walk matrix...\n",
      "Permutation 46\n",
      "Network without edge weights\n",
      "Creating random walk matrix...\n",
      "Permutation 47\n",
      "Network without edge weights\n",
      "Creating random walk matrix...\n",
      "Permutation 48\n",
      "Network without edge weights\n",
      "Creating random walk matrix...\n",
      "Permutation 49\n",
      "Network without edge weights\n",
      "Creating random walk matrix...\n",
      "Permutation 50\n",
      "Network without edge weights\n",
      "Creating random walk matrix...\n",
      "Permutation 51\n",
      "Network without edge weights\n",
      "Creating random walk matrix...\n",
      "Permutation 52\n",
      "Network without edge weights\n",
      "Creating random walk matrix...\n",
      "Permutation 53\n",
      "Network without edge weights\n",
      "Creating random walk matrix...\n",
      "Permutation 54\n",
      "Network without edge weights\n",
      "Creating random walk matrix...\n",
      "Permutation 55\n",
      "Network without edge weights\n",
      "Creating random walk matrix...\n",
      "Permutation 56\n",
      "Network without edge weights\n",
      "Creating random walk matrix...\n",
      "Permutation 57\n",
      "Network without edge weights\n",
      "Creating random walk matrix...\n",
      "Permutation 58\n",
      "Network without edge weights\n",
      "Creating random walk matrix...\n",
      "Permutation 59\n",
      "Network without edge weights\n",
      "Creating random walk matrix...\n",
      "Permutation 60\n",
      "Network without edge weights\n",
      "Creating random walk matrix...\n",
      "Permutation 61\n",
      "Network without edge weights\n",
      "Creating random walk matrix...\n",
      "Permutation 62\n",
      "Network without edge weights\n",
      "Creating random walk matrix...\n",
      "Permutation 63\n",
      "Network without edge weights\n",
      "Creating random walk matrix...\n",
      "Permutation 64\n",
      "Network without edge weights\n",
      "Creating random walk matrix...\n",
      "Permutation 65\n",
      "Network without edge weights\n",
      "Creating random walk matrix...\n",
      "Permutation 66\n",
      "Network without edge weights\n",
      "Creating random walk matrix...\n",
      "Permutation 67\n",
      "Network without edge weights\n",
      "Creating random walk matrix...\n",
      "Permutation 68\n",
      "Network without edge weights\n",
      "Creating random walk matrix...\n",
      "Permutation 69\n",
      "Network without edge weights\n",
      "Creating random walk matrix...\n",
      "Permutation 70\n",
      "Network without edge weights\n",
      "Creating random walk matrix...\n",
      "Permutation 71\n",
      "Network without edge weights\n",
      "Creating random walk matrix...\n",
      "Permutation 72\n",
      "Network without edge weights\n",
      "Creating random walk matrix...\n",
      "Permutation 73\n",
      "Network without edge weights\n",
      "Creating random walk matrix...\n",
      "Permutation 74\n",
      "Network without edge weights\n",
      "Creating random walk matrix...\n",
      "Permutation 75\n",
      "Network without edge weights\n",
      "Creating random walk matrix...\n",
      "Permutation 76\n",
      "Network without edge weights\n",
      "Creating random walk matrix...\n",
      "Permutation 77\n",
      "Network without edge weights\n",
      "Creating random walk matrix...\n",
      "Permutation 78\n",
      "Network without edge weights\n",
      "Creating random walk matrix...\n",
      "Permutation 79\n",
      "Network without edge weights\n",
      "Creating random walk matrix...\n",
      "Permutation 80\n",
      "Network without edge weights\n",
      "Creating random walk matrix...\n",
      "Permutation 81\n",
      "Network without edge weights\n",
      "Creating random walk matrix...\n",
      "Permutation 82\n",
      "Network without edge weights\n",
      "Creating random walk matrix...\n",
      "Permutation 83\n",
      "Network without edge weights\n",
      "Creating random walk matrix...\n",
      "Permutation 84\n",
      "Network without edge weights\n",
      "Creating random walk matrix...\n",
      "Permutation 85\n",
      "Network without edge weights\n",
      "Creating random walk matrix...\n",
      "Permutation 86\n",
      "Network without edge weights\n",
      "Creating random walk matrix...\n",
      "Permutation 87\n",
      "Network without edge weights\n",
      "Creating random walk matrix...\n",
      "Permutation 88\n",
      "Network without edge weights\n",
      "Creating random walk matrix...\n",
      "Permutation 89\n",
      "Network without edge weights\n",
      "Creating random walk matrix...\n",
      "Permutation 90\n",
      "Network without edge weights\n",
      "Creating random walk matrix...\n",
      "Permutation 91\n",
      "Network without edge weights\n",
      "Creating random walk matrix...\n",
      "Permutation 92\n",
      "Network without edge weights\n",
      "Creating random walk matrix...\n",
      "Permutation 93\n",
      "Network without edge weights\n",
      "Creating random walk matrix...\n",
      "Permutation 94\n",
      "Network without edge weights\n",
      "Creating random walk matrix...\n",
      "Permutation 95\n",
      "Network without edge weights\n",
      "Creating random walk matrix...\n",
      "Permutation 96\n",
      "Network without edge weights\n",
      "Creating random walk matrix...\n",
      "Permutation 97\n",
      "Network without edge weights\n",
      "Creating random walk matrix...\n",
      "Permutation 98\n",
      "Network without edge weights\n",
      "Creating random walk matrix...\n",
      "Permutation 99\n",
      "Network without edge weights\n",
      "Creating random walk matrix...\n",
      "Permutation 100\n",
      "No permutation file found: data/CPDB_high_confidence_edge_permutations/CPDB_high_confidence_edgelist100.txt\n",
      "Getting permutation pvalues...\n",
      "Getting seed modules...\n",
      "The maximum subnet size is 117\n",
      "Number of seed induced subnetwork with propagation nodes has reached the maximum size of 117-> no more nodes will be added to the subnetwork!\n",
      "Saving modules...\n",
      "DONE\n"
     ]
    }
   ],
   "source": [
    "%run netcore.py \\\n",
    "        -e data/CPDB_high_confidence.txt \\\n",
    "        -w data/Type_2_diabetes_score.txt \\\n",
    "        -s data/Type_2_diabetes.txt \\\n",
    "        -pd data/CPDB_high_confidence_edge_permutations/ \\\n",
    "        -o data/result/"
   ]
  },
  {
   "cell_type": "markdown",
   "metadata": {},
   "source": [
    "### NetCore output files"
   ]
  },
  {
   "cell_type": "markdown",
   "metadata": {},
   "source": [
    "#### NetCore propagation weights and p-values"
   ]
  },
  {
   "cell_type": "markdown",
   "metadata": {},
   "source": [
    "The first output file contains the propagation weights for all the nodes in the network and their pvalues (based on the permutation test).\n",
    "The file is sorted according to weights after propagation and pvalues."
   ]
  },
  {
   "cell_type": "code",
   "execution_count": 6,
   "metadata": {},
   "outputs": [
    {
     "data": {
      "text/html": [
       "<div>\n",
       "<style scoped>\n",
       "    .dataframe tbody tr th:only-of-type {\n",
       "        vertical-align: middle;\n",
       "    }\n",
       "\n",
       "    .dataframe tbody tr th {\n",
       "        vertical-align: top;\n",
       "    }\n",
       "\n",
       "    .dataframe thead th {\n",
       "        text-align: right;\n",
       "    }\n",
       "</style>\n",
       "<table border=\"1\" class=\"dataframe\">\n",
       "  <thead>\n",
       "    <tr style=\"text-align: right;\">\n",
       "      <th></th>\n",
       "      <th>node_index</th>\n",
       "      <th>node</th>\n",
       "      <th>prop_weight</th>\n",
       "      <th>pvalue</th>\n",
       "    </tr>\n",
       "  </thead>\n",
       "  <tbody>\n",
       "    <tr>\n",
       "      <th>0</th>\n",
       "      <td>4635</td>\n",
       "      <td>KCNQ1</td>\n",
       "      <td>84.231641</td>\n",
       "      <td>0.009901</td>\n",
       "    </tr>\n",
       "    <tr>\n",
       "      <th>1</th>\n",
       "      <td>3991</td>\n",
       "      <td>HLA-DQA1</td>\n",
       "      <td>42.138332</td>\n",
       "      <td>0.009901</td>\n",
       "    </tr>\n",
       "    <tr>\n",
       "      <th>2</th>\n",
       "      <td>3993</td>\n",
       "      <td>HLA-DQB1</td>\n",
       "      <td>39.481334</td>\n",
       "      <td>0.009901</td>\n",
       "    </tr>\n",
       "    <tr>\n",
       "      <th>3</th>\n",
       "      <td>3534</td>\n",
       "      <td>GMCL1</td>\n",
       "      <td>18.611808</td>\n",
       "      <td>0.009901</td>\n",
       "    </tr>\n",
       "    <tr>\n",
       "      <th>4</th>\n",
       "      <td>506</td>\n",
       "      <td>APP</td>\n",
       "      <td>17.961043</td>\n",
       "      <td>0.009901</td>\n",
       "    </tr>\n",
       "  </tbody>\n",
       "</table>\n",
       "</div>"
      ],
      "text/plain": [
       "   node_index      node  prop_weight    pvalue\n",
       "0        4635     KCNQ1    84.231641  0.009901\n",
       "1        3991  HLA-DQA1    42.138332  0.009901\n",
       "2        3993  HLA-DQB1    39.481334  0.009901\n",
       "3        3534     GMCL1    18.611808  0.009901\n",
       "4         506       APP    17.961043  0.009901"
      ]
     },
     "execution_count": 6,
     "metadata": {},
     "output_type": "execute_result"
    }
   ],
   "source": [
    "# open propagaion weights file\n",
    "netcore_weights_file = \"data/result/random_walk_weights.txt\"\n",
    "netcore_weights = pd.read_csv(netcore_weights_file,sep=\"\\t\")\n",
    "netcore_weights.head()\n"
   ]
  },
  {
   "cell_type": "markdown",
   "metadata": {},
   "source": [
    "#### NetCore modules"
   ]
  },
  {
   "cell_type": "markdown",
   "metadata": {},
   "source": [
    "NetCore outputs the modules and the genes in each module in a `text` file, as well as plots the modules and outputs them as `pdf` files.\n",
    "\n",
    "In addition, Netcore provides the extended seed sub-network, which inclues all of the seed nodes and the nodes that were added after the propagation. For this sub-network both an edge list and an adjecency list are are provided, as well as a `pdf` with the plot of the sub-network. "
   ]
  },
  {
   "cell_type": "code",
   "execution_count": 8,
   "metadata": {},
   "outputs": [
    {
     "data": {
      "text/html": [
       "<div>\n",
       "<style scoped>\n",
       "    .dataframe tbody tr th:only-of-type {\n",
       "        vertical-align: middle;\n",
       "    }\n",
       "\n",
       "    .dataframe tbody tr th {\n",
       "        vertical-align: top;\n",
       "    }\n",
       "\n",
       "    .dataframe thead th {\n",
       "        text-align: right;\n",
       "    }\n",
       "</style>\n",
       "<table border=\"1\" class=\"dataframe\">\n",
       "  <thead>\n",
       "    <tr style=\"text-align: right;\">\n",
       "      <th></th>\n",
       "      <th>nodes</th>\n",
       "      <th>size</th>\n",
       "      <th>sum_weights</th>\n",
       "    </tr>\n",
       "  </thead>\n",
       "  <tbody>\n",
       "    <tr>\n",
       "      <th>0</th>\n",
       "      <td>ABCC8\\tACHE\\tADCY5\\tANK2\\tAP2M1\\tAPOE\\tAPP\\tAT...</td>\n",
       "      <td>50</td>\n",
       "      <td>531.788</td>\n",
       "    </tr>\n",
       "    <tr>\n",
       "      <th>1</th>\n",
       "      <td>GIT2\\tHMG20A\\tHMGA2\\tJAZF1\\tPOU5F1\\tPPARG\\tPRM...</td>\n",
       "      <td>8</td>\n",
       "      <td>87.384</td>\n",
       "    </tr>\n",
       "    <tr>\n",
       "      <th>2</th>\n",
       "      <td>HNF1A\\tHNF1B\\tHNF4A\\tJAG1\\tNOTCH2</td>\n",
       "      <td>5</td>\n",
       "      <td>44.987</td>\n",
       "    </tr>\n",
       "    <tr>\n",
       "      <th>3</th>\n",
       "      <td>HLA-B\\tLAMTOR3\\tPSMD6\\tSND1\\tSSR1\\tTOMM40</td>\n",
       "      <td>6</td>\n",
       "      <td>23.330</td>\n",
       "    </tr>\n",
       "    <tr>\n",
       "      <th>4</th>\n",
       "      <td>GRK5\\tMAEA\\tRBMS1</td>\n",
       "      <td>3</td>\n",
       "      <td>20.942</td>\n",
       "    </tr>\n",
       "  </tbody>\n",
       "</table>\n",
       "</div>"
      ],
      "text/plain": [
       "                                               nodes  size  sum_weights\n",
       "0  ABCC8\\tACHE\\tADCY5\\tANK2\\tAP2M1\\tAPOE\\tAPP\\tAT...    50      531.788\n",
       "1  GIT2\\tHMG20A\\tHMGA2\\tJAZF1\\tPOU5F1\\tPPARG\\tPRM...     8       87.384\n",
       "2                  HNF1A\\tHNF1B\\tHNF4A\\tJAG1\\tNOTCH2     5       44.987\n",
       "3          HLA-B\\tLAMTOR3\\tPSMD6\\tSND1\\tSSR1\\tTOMM40     6       23.330\n",
       "4                                  GRK5\\tMAEA\\tRBMS1     3       20.942"
      ]
     },
     "execution_count": 8,
     "metadata": {},
     "output_type": "execute_result"
    }
   ],
   "source": [
    "# open the modules file\n",
    "netcore_modules_file = \"data/result/core_norm_subnetworks.txt\"\n",
    "netcore_modules = pd.read_csv(netcore_modules_file,sep=\",\")\n",
    "netcore_modules.head()\n"
   ]
  },
  {
   "cell_type": "code",
   "execution_count": 9,
   "metadata": {},
   "outputs": [
    {
     "name": "stdout",
     "output_type": "stream",
     "text": [
      "['ABCC8', 'ACHE', 'ADCY5', 'ANK2', 'AP2M1', 'APOE', 'APP', 'ATP4A', 'ATP6V0A1', 'BCCIP', 'CD74', 'CDH4', 'CFTR', 'DDX19B', 'FAF1', 'FTO', 'GNAI3', 'GPSM1', 'GRB14', 'GRB2', 'HLA-DQA1', 'HLA-DQB1', 'IDE', 'IGF1R', 'INS', 'IRS1', 'KCNJ11', 'KCNJ8', 'KCNK16', 'KCNQ1', 'LAMA1', 'MTNR1B', 'MYO19', 'NDRG1', 'NPEPPS', 'PRKACA', 'PRKAR2A', 'PTPRD', 'PTPRS', 'R3HDML', 'SCN2B', 'SH3GL2', 'SLC3A2', 'SPRY2', 'SYVN1', 'UBE2E2', 'UBXN7', 'USP2', 'VPS26A', 'WFS1']\n",
      "['GIT2', 'HMG20A', 'HMGA2', 'JAZF1', 'POU5F1', 'PPARG', 'PRMT6', 'YEATS4']\n",
      "['HNF1A', 'HNF1B', 'HNF4A', 'JAG1', 'NOTCH2']\n",
      "['HLA-B', 'LAMTOR3', 'PSMD6', 'SND1', 'SSR1', 'TOMM40']\n",
      "['GRK5', 'MAEA', 'RBMS1']\n",
      "['GMCL1', 'PAX4']\n",
      "['CREB3L1', 'RTN3', 'SLC30A8']\n",
      "['SGCD', 'SGCG']\n",
      "['DPP4', 'GIP']\n"
     ]
    }
   ],
   "source": [
    "# to get the nodes in each module\n",
    "for nodes in netcore_modules.nodes:\n",
    "    nodes_list = nodes.split(\"\\t\")\n",
    "    print(nodes_list)"
   ]
  },
  {
   "cell_type": "code",
   "execution_count": 12,
   "metadata": {},
   "outputs": [
    {
     "name": "stdout",
     "output_type": "stream",
     "text": [
      "Extended seed sub-network:\n",
      "Number of nodes 117\n",
      "Number of edges 92\n"
     ]
    }
   ],
   "source": [
    "# get the extended seed subnetwork\n",
    "extended_seed_subnet_adjlist = \"data/result/extended_seed_subnet.adjlist\"\n",
    "extended_seed_subnet = nx.read_adjlist(extended_seed_subnet_adjlist, create_using = nx.Graph(),\n",
    "                nodetype = str)\n",
    "print(\"Extended seed sub-network:\")\n",
    "print(\"Number of nodes \" + str(extended_seed_subnet.number_of_nodes()))\n",
    "print(\"Number of edges \" + str(extended_seed_subnet.number_of_edges()))"
   ]
  },
  {
   "cell_type": "code",
   "execution_count": 15,
   "metadata": {},
   "outputs": [
    {
     "data": {
      "text/html": [
       "\n",
       "        <iframe\n",
       "            width=\"600\"\n",
       "            height=\"300\"\n",
       "            src=\"data/result/modules/module0.pdf\"\n",
       "            frameborder=\"0\"\n",
       "            allowfullscreen\n",
       "        ></iframe>\n",
       "        "
      ],
      "text/plain": [
       "<IPython.lib.display.IFrame at 0x7f68cca8b860>"
      ]
     },
     "execution_count": 15,
     "metadata": {},
     "output_type": "execute_result"
    }
   ],
   "source": [
    "# show the biggest module\n",
    "from IPython.display import IFrame\n",
    "module0_file = \"data/result/modules/module0.pdf\"\n",
    "IFrame(module0_file, width=600, height=300)"
   ]
  },
  {
   "cell_type": "markdown",
   "metadata": {},
   "source": [
    "### Optional arguments (and their default values)"
   ]
  },
  {
   "cell_type": "markdown",
   "metadata": {},
   "source": [
    "Set the dirctory for output files (if not give, default is the current directory) \n",
    "\n",
    "``` -o path ```"
   ]
  },
  {
   "cell_type": "markdown",
   "metadata": {},
   "source": [
    "Set the **restart probability** for the random walk with restart process by:\n",
    "\n",
    "``` -p 0.5```\n"
   ]
  },
  {
   "cell_type": "markdown",
   "metadata": {},
   "source": [
    "Set the **normalization method** of the adjecency matrix in the network propagation by:\n",
    "\n",
    "``` -n core_norm```"
   ]
  },
  {
   "cell_type": "markdown",
   "metadata": {},
   "source": [
    "Set the prefix and the suffix for the name of the **permutations files** (which is generated by the *permutations_test.py* script) by:\n",
    "\n",
    "```-nn CPDB_high_confidence```\n",
    "\n",
    "```-pn edgelist```"
   ]
  },
  {
   "cell_type": "markdown",
   "metadata": {},
   "source": [
    "Set the **number of permutations** to use by:\n",
    "    \n",
    "```-np 100```"
   ]
  },
  {
   "cell_type": "markdown",
   "metadata": {},
   "source": [
    "Set the **thresholds** for the **pvalue** and **weight** for the module identification step (if a weight thershold is not given, it will be calculated according to the propagation weights):\n",
    "\n",
    "```-pt 0.01```\n",
    "\n",
    "```-wt None```"
   ]
  },
  {
   "cell_type": "markdown",
   "metadata": {},
   "source": [
    "Set the **maximum size** of the extended seed sub-network by (if no value is given the maximum size is calculated according size of the seed induced sub-network)\n",
    "\n",
    "``` -ms None```"
   ]
  },
  {
   "cell_type": "markdown",
   "metadata": {},
   "source": [
    "## Weighted networks"
   ]
  },
  {
   "cell_type": "markdown",
   "metadata": {},
   "source": [
    "NetCore also allows the usage of weighted networks.\n",
    "\n",
    "The input should include, in addition to the edge list, a weight for every edge in the network.\n",
    "\n",
    "The adjecency matrix normalizaion methods have been adapted for the weighted case, such that the edge weights are also used for normalizing the adjecency matrix, in addition to the degree or core or both.\n",
    "\n",
    "In addition, for the permutation test, it is possible to create network permutations using the `make_network_permutations.py` script. The input file should also include the edge weights. The edge swapping implementation from the `Networkx` package has been modified to also swap the edge weights.\n"
   ]
  }
 ],
 "metadata": {
  "kernelspec": {
   "display_name": "Python 3",
   "language": "python",
   "name": "python3"
  },
  "language_info": {
   "codemirror_mode": {
    "name": "ipython",
    "version": 3
   },
   "file_extension": ".py",
   "mimetype": "text/x-python",
   "name": "python",
   "nbconvert_exporter": "python",
   "pygments_lexer": "ipython3",
   "version": "3.6.6"
  }
 },
 "nbformat": 4,
 "nbformat_minor": 2
}
